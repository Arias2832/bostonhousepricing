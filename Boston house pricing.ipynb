{
 "cells": [
  {
   "cell_type": "code",
   "execution_count": null,
   "id": "3bd7d2b8",
   "metadata": {},
   "outputs": [],
   "source": [
    "import pandas as pd\n",
    "import numpy as np\n",
    "import matplotlib.pyplot as plt\n",
    "%matplotlib inline"
   ]
  },
  {
   "cell_type": "code",
   "execution_count": null,
   "id": "aaa30d63",
   "metadata": {},
   "outputs": [],
   "source": [
    "\n",
    "column_names = ['CRIM', 'ZN', 'INDUS', 'CHAS', 'NOX', 'RM', 'AGE', 'DIS', 'RAD', 'TAX', 'PTRATIO', 'B', 'LSTAT', 'MEDV']\n",
    "boston = pd.read_csv('housing.csv', header=None, delimiter=r\"\\s+\", names=column_names)\n",
    "boston.head(5)"
   ]
  },
  {
   "cell_type": "code",
   "execution_count": null,
   "id": "ad941d0f",
   "metadata": {},
   "outputs": [],
   "source": [
    "dataset=boston"
   ]
  },
  {
   "cell_type": "code",
   "execution_count": null,
   "id": "c3533fc5",
   "metadata": {},
   "outputs": [],
   "source": [
    "dataset.rename(columns={'MEDV': 'Price'}, inplace=True)\n",
    "dataset.head()"
   ]
  },
  {
   "cell_type": "code",
   "execution_count": null,
   "id": "f9683f16",
   "metadata": {},
   "outputs": [],
   "source": [
    "dataset.info()"
   ]
  },
  {
   "cell_type": "code",
   "execution_count": null,
   "id": "ae4bfda2",
   "metadata": {},
   "outputs": [],
   "source": [
    "dataset.describe()"
   ]
  },
  {
   "cell_type": "code",
   "execution_count": null,
   "id": "5faea602",
   "metadata": {},
   "outputs": [],
   "source": [
    "# Check missing values\n",
    "dataset.isnull().sum()"
   ]
  },
  {
   "cell_type": "code",
   "execution_count": null,
   "id": "0a971896",
   "metadata": {},
   "outputs": [],
   "source": [
    "## Exploratory data analysis\n",
    "## Si es un problema de regresión mirar la correlación es muy importante. Pearson correlación se evalua con .corr()\n",
    "# Si hay una alta correlación entré dos variables independientes se puede eliminar una para no tener una multicolinearilidad (<95%)\n",
    "dataset.corr()"
   ]
  },
  {
   "cell_type": "code",
   "execution_count": null,
   "id": "45e13eef",
   "metadata": {},
   "outputs": [],
   "source": [
    "import seaborn as sns"
   ]
  },
  {
   "cell_type": "code",
   "execution_count": null,
   "id": "10d313be",
   "metadata": {},
   "outputs": [],
   "source": [
    "sns.pairplot(dataset)"
   ]
  },
  {
   "cell_type": "code",
   "execution_count": null,
   "id": "079bec76",
   "metadata": {},
   "outputs": [],
   "source": [
    "plt.scatter(dataset['CRIM'], dataset['Price'])\n",
    "plt.xlabel('crime rate')\n",
    "plt.ylabel('Price')"
   ]
  },
  {
   "cell_type": "code",
   "execution_count": null,
   "id": "bd3a4ada",
   "metadata": {},
   "outputs": [],
   "source": [
    "plt.scatter(dataset['RM'], dataset['Price'])\n",
    "plt.xlabel('crime rate')\n",
    "plt.ylabel('Price')"
   ]
  },
  {
   "cell_type": "code",
   "execution_count": null,
   "id": "8dcfea79",
   "metadata": {},
   "outputs": [],
   "source": [
    "sns.regplot(x='RM', y='Price', data=dataset)"
   ]
  },
  {
   "cell_type": "code",
   "execution_count": null,
   "id": "d6aff3e9",
   "metadata": {},
   "outputs": [],
   "source": [
    "sns.regplot(x='LSTAT', y='Price', data=dataset)"
   ]
  },
  {
   "cell_type": "code",
   "execution_count": null,
   "id": "11794345",
   "metadata": {},
   "outputs": [],
   "source": [
    "#Independent and dependent features\n",
    "X=dataset.iloc[:,:-1]\n",
    "y=dataset['Price']"
   ]
  },
  {
   "cell_type": "code",
   "execution_count": null,
   "id": "92e33e94",
   "metadata": {},
   "outputs": [],
   "source": [
    "y"
   ]
  },
  {
   "cell_type": "code",
   "execution_count": null,
   "id": "27403bc8",
   "metadata": {},
   "outputs": [],
   "source": [
    "## Train test Split\n",
    "from sklearn.model_selection import train_test_split"
   ]
  },
  {
   "cell_type": "code",
   "execution_count": null,
   "id": "0b84d493",
   "metadata": {},
   "outputs": [],
   "source": [
    "X_train, X_test, y_train, y_test= train_test_split(X,y, test_size=0.3, random_state=1)"
   ]
  },
  {
   "cell_type": "code",
   "execution_count": null,
   "id": "30d3f1a1",
   "metadata": {},
   "outputs": [],
   "source": [
    "X_train"
   ]
  },
  {
   "cell_type": "code",
   "execution_count": null,
   "id": "b5c03a4a",
   "metadata": {},
   "outputs": [],
   "source": [
    "X_test"
   ]
  },
  {
   "cell_type": "markdown",
   "id": "b5c304d8",
   "metadata": {},
   "source": [
    "### Standardize the dataset\n",
    "La estandarización del dataset se hace porque en la regresión se debe hallar el mínimo global con el descenso de gradiente\n",
    "y para esto, todas las caracteristicas deben estar en la misma escala\n",
    "\n"
   ]
  },
  {
   "cell_type": "code",
   "execution_count": null,
   "id": "654cca53",
   "metadata": {},
   "outputs": [],
   "source": [
    "from sklearn.preprocessing import StandardScaler\n",
    "scaler=StandardScaler()"
   ]
  },
  {
   "cell_type": "code",
   "execution_count": null,
   "id": "b26b5044",
   "metadata": {},
   "outputs": [],
   "source": [
    "X_train=scaler.fit_transform(X_train)"
   ]
  },
  {
   "cell_type": "code",
   "execution_count": null,
   "id": "5042e5a1",
   "metadata": {},
   "outputs": [],
   "source": [
    "X_test=scaler.fit_transform(X_test)"
   ]
  },
  {
   "cell_type": "code",
   "execution_count": null,
   "id": "030b0814",
   "metadata": {},
   "outputs": [],
   "source": [
    "X_train"
   ]
  },
  {
   "cell_type": "code",
   "execution_count": null,
   "id": "8e9abb2b",
   "metadata": {},
   "outputs": [],
   "source": [
    "X_test"
   ]
  },
  {
   "cell_type": "markdown",
   "id": "a2bf4856",
   "metadata": {},
   "source": [
    "## Model training"
   ]
  },
  {
   "cell_type": "code",
   "execution_count": null,
   "id": "3791b0c9",
   "metadata": {},
   "outputs": [],
   "source": [
    "from sklearn.linear_model import LinearRegression\n"
   ]
  },
  {
   "cell_type": "code",
   "execution_count": null,
   "id": "2a4ee7f3",
   "metadata": {},
   "outputs": [],
   "source": [
    "regression= LinearRegression()"
   ]
  },
  {
   "cell_type": "code",
   "execution_count": null,
   "id": "085614df",
   "metadata": {},
   "outputs": [],
   "source": [
    "regression.fit(X_train, y_train)"
   ]
  },
  {
   "cell_type": "code",
   "execution_count": null,
   "id": "898c05f6",
   "metadata": {},
   "outputs": [],
   "source": [
    "#Print the coefficients and the intercept\n",
    "regression.coef_"
   ]
  },
  {
   "cell_type": "code",
   "execution_count": null,
   "id": "56cbbdba",
   "metadata": {},
   "outputs": [],
   "source": [
    "regression.intercept_"
   ]
  },
  {
   "cell_type": "code",
   "execution_count": null,
   "id": "fcf5814e",
   "metadata": {},
   "outputs": [],
   "source": [
    "#on wich parameter the model has been trained\n",
    "regression.get_params()"
   ]
  },
  {
   "cell_type": "code",
   "execution_count": null,
   "id": "7dc9265f",
   "metadata": {},
   "outputs": [],
   "source": [
    "##Prediction with test data\n",
    "reg_pred= regression.predict(X_test)\n",
    "reg_pred"
   ]
  },
  {
   "cell_type": "code",
   "execution_count": null,
   "id": "7bac5316",
   "metadata": {},
   "outputs": [],
   "source": [
    "#Plot scatter prediction vs test\n",
    "plt.scatter(y_test, reg_pred)\n",
    "#Cuando el plot es linear es indicador que el modelo trabaja bien"
   ]
  },
  {
   "cell_type": "code",
   "execution_count": null,
   "id": "98cdd154",
   "metadata": {},
   "outputs": [],
   "source": [
    "## Errors = residual\n",
    "residual = reg_pred - y_test\n",
    "residual"
   ]
  },
  {
   "cell_type": "code",
   "execution_count": null,
   "id": "68f02f46",
   "metadata": {},
   "outputs": [],
   "source": [
    "## Plot residual, se observa una distrubución normal, lo cual es bueno\n",
    "sns.displot(residual, kind='kde')"
   ]
  },
  {
   "cell_type": "code",
   "execution_count": null,
   "id": "36cf35b9",
   "metadata": {},
   "outputs": [],
   "source": [
    "plt.scatter(reg_pred, residual)"
   ]
  },
  {
   "cell_type": "code",
   "execution_count": null,
   "id": "27f62bc2",
   "metadata": {},
   "outputs": [],
   "source": [
    "from sklearn.metrics import mean_absolute_error\n",
    "from sklearn.metrics import mean_squared_error\n"
   ]
  },
  {
   "cell_type": "code",
   "execution_count": null,
   "id": "3b81166d",
   "metadata": {},
   "outputs": [],
   "source": [
    "mean_absolute_error(y_test, reg_pred)"
   ]
  },
  {
   "cell_type": "code",
   "execution_count": null,
   "id": "2fe62461",
   "metadata": {},
   "outputs": [],
   "source": [
    "mean_squared_error(y_test, reg_pred)"
   ]
  },
  {
   "cell_type": "code",
   "execution_count": null,
   "id": "caae1e07",
   "metadata": {},
   "outputs": [],
   "source": [
    "np.sqrt(mean_squared_error(y_test, reg_pred))"
   ]
  },
  {
   "cell_type": "markdown",
   "id": "9558a6f8",
   "metadata": {},
   "source": [
    "## R squared and adjusted R squared\n",
    "El R cuadrado es un número que varía entre 0 y 1, y se interpreta como la proporción de la variabilidad de la variable dependiente que puede ser explicada por la variable independiente o predictor en el modelo de regresión. \n",
    "#### Formula: \n",
    "R^2= 1-(SSR/SST)"
   ]
  },
  {
   "cell_type": "code",
   "execution_count": null,
   "id": "10643151",
   "metadata": {},
   "outputs": [],
   "source": [
    "from sklearn.metrics import r2_score"
   ]
  },
  {
   "cell_type": "code",
   "execution_count": null,
   "id": "11eb89d8",
   "metadata": {},
   "outputs": [],
   "source": [
    "r_square=r2_score(y_test, reg_pred)\n",
    "r_square"
   ]
  },
  {
   "cell_type": "markdown",
   "id": "151c3b43",
   "metadata": {},
   "source": [
    "### Predicción con datos nuevos"
   ]
  },
  {
   "cell_type": "code",
   "execution_count": null,
   "id": "9ac2eb04",
   "metadata": {},
   "outputs": [],
   "source": [
    "# convirtiendo el dataframe a un array de np\n",
    "boston = X.values"
   ]
  },
  {
   "cell_type": "code",
   "execution_count": null,
   "id": "9c634cfc",
   "metadata": {},
   "outputs": [],
   "source": [
    "#Para obtener una predicción debo conertirlo en una matriz de dos dimensiones y estandarizar los datos\n",
    "boston[0].reshape(1,-1)\n",
    "#transformation of new data\n",
    "scaler.transform(boston[0].reshape(1,-1))"
   ]
  },
  {
   "cell_type": "code",
   "execution_count": null,
   "id": "a122142d",
   "metadata": {},
   "outputs": [],
   "source": [
    "boston[0].reshape(1,-1)"
   ]
  },
  {
   "cell_type": "code",
   "execution_count": null,
   "id": "d93ba8af",
   "metadata": {},
   "outputs": [],
   "source": [
    "regression.predict(scaler.transform(boston[0].reshape(1,-1)))"
   ]
  },
  {
   "cell_type": "markdown",
   "id": "4c10eb58",
   "metadata": {},
   "source": [
    "### Pickling the model file for deployment"
   ]
  },
  {
   "cell_type": "code",
   "execution_count": null,
   "id": "f3bf8837",
   "metadata": {},
   "outputs": [],
   "source": [
    "import pickle"
   ]
  },
  {
   "cell_type": "code",
   "execution_count": null,
   "id": "549e9076",
   "metadata": {},
   "outputs": [],
   "source": [
    "pickle.dump(regression, open('regModel.pkl', 'wb'))"
   ]
  },
  {
   "cell_type": "code",
   "execution_count": null,
   "id": "1e63e8a2",
   "metadata": {},
   "outputs": [],
   "source": [
    "pickle_model = pickle.load(open('regModel.pkl', 'rb'))"
   ]
  },
  {
   "cell_type": "code",
   "execution_count": null,
   "id": "06222495",
   "metadata": {},
   "outputs": [],
   "source": [
    "pickle_model.predict(scaler.transform(boston[0].reshape(1,-1)))"
   ]
  },
  {
   "cell_type": "code",
   "execution_count": null,
   "id": "034e78ea",
   "metadata": {},
   "outputs": [],
   "source": []
  }
 ],
 "metadata": {
  "kernelspec": {
   "display_name": "Python 3 (ipykernel)",
   "language": "python",
   "name": "python3"
  },
  "language_info": {
   "codemirror_mode": {
    "name": "ipython",
    "version": 3
   },
   "file_extension": ".py",
   "mimetype": "text/x-python",
   "name": "python",
   "nbconvert_exporter": "python",
   "pygments_lexer": "ipython3",
   "version": "3.7.0"
  }
 },
 "nbformat": 4,
 "nbformat_minor": 5
}
